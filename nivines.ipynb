{
 "cells": [
  {
   "cell_type": "code",
   "execution_count": null,
   "id": "cf011a10-aad4-4674-adb5-4ee2e797d484",
   "metadata": {},
   "outputs": [],
   "source": [
    "num = int(input(\"enter the number :\"))\n",
    "temp = num \n",
    "sum = 0\n",
    "while temp>0:\n",
    "    digit= temp%10\n",
    "    sum +=digit\n",
    "    temp//=10\n",
    "\n",
    "print(\"largest sum:\",sum)\n",
    "print(\"larget temp:\",temp)\n",
    "if num%sum==0:\n",
    "    print(\"nivien's number \")\n",
    "else:\n",
    "    print(\"not nivine's number \")"
   ]
  }
 ],
 "metadata": {
  "kernelspec": {
   "display_name": "Python 3 (ipykernel)",
   "language": "python",
   "name": "python3"
  },
  "language_info": {
   "codemirror_mode": {
    "name": "ipython",
    "version": 3
   },
   "file_extension": ".py",
   "mimetype": "text/x-python",
   "name": "python",
   "nbconvert_exporter": "python",
   "pygments_lexer": "ipython3",
   "version": "3.12.7"
  }
 },
 "nbformat": 4,
 "nbformat_minor": 5
}
