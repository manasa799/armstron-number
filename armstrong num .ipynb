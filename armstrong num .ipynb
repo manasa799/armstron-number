{
 "cells": [
  {
   "cell_type": "code",
   "execution_count": null,
   "id": "33251376-5fce-4b9c-a47c-5cbe854cd907",
   "metadata": {},
   "outputs": [],
   "source": [
    "num = int(input(\"enter the number :\"))\n",
    "temp = num \n",
    "sum = 0\n",
    "n=len(str(num))\n",
    "sum = 0\n",
    "while temp>0:\n",
    "    digit= temp%10\n",
    "    sum +=digit**n\n",
    "    temp//=10\n",
    "\n",
    "print(\"largest sum:\",sum)\n",
    "print(\"larget temp:\",temp)\n",
    "if sum== num:\n",
    "    print(\"armstrong number \")\n",
    "else:\n",
    "    print(\"not am\")"
   ]
  }
 ],
 "metadata": {
  "kernelspec": {
   "display_name": "Python 3 (ipykernel)",
   "language": "python",
   "name": "python3"
  },
  "language_info": {
   "codemirror_mode": {
    "name": "ipython",
    "version": 3
   },
   "file_extension": ".py",
   "mimetype": "text/x-python",
   "name": "python",
   "nbconvert_exporter": "python",
   "pygments_lexer": "ipython3",
   "version": "3.12.7"
  }
 },
 "nbformat": 4,
 "nbformat_minor": 5
}
